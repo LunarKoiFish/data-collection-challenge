{
 "cells": [
  {
   "attachments": {},
   "cell_type": "markdown",
   "metadata": {},
   "source": [
    "# Module 11 Challenge\n",
    "## Deliverable 2: Scrape and Analyze Mars Weather Data"
   ]
  },
  {
   "cell_type": "code",
   "execution_count": 134,
   "metadata": {},
   "outputs": [],
   "source": [
    "# Import relevant libraries\n",
    "from splinter import Browser\n",
    "from bs4 import BeautifulSoup\n",
    "import matplotlib.pyplot as plt\n",
    "import pandas as pd"
   ]
  },
  {
   "cell_type": "code",
   "execution_count": 135,
   "metadata": {},
   "outputs": [],
   "source": [
    "browser = Browser('chrome')"
   ]
  },
  {
   "attachments": {},
   "cell_type": "markdown",
   "metadata": {},
   "source": [
    "### Step 1: Visit the Website\n",
    "\n",
    "Use automated browsing to visit the [Mars Temperature Data Site](https://static.bc-edx.com/data/web/mars_facts/temperature.html). Inspect the page to identify which elements to scrape.\n",
    "\n",
    "   > **Hint** To identify which elements to scrape, you might want to inspect the page by using Chrome DevTools to discover whether the table contains usable classes.\n"
   ]
  },
  {
   "cell_type": "code",
   "execution_count": 136,
   "metadata": {},
   "outputs": [],
   "source": [
    "# Visit the website\n",
    "# https://static.bc-edx.com/data/web/mars_facts/temperature.html\n",
    "url = \"https://static.bc-edx.com/data/web/mars_facts/temperature.html\"\n",
    "browser.visit(url)"
   ]
  },
  {
   "attachments": {},
   "cell_type": "markdown",
   "metadata": {},
   "source": [
    "### Step 2: Scrape the Table\n",
    "\n",
    "Create a Beautiful Soup object and use it to scrape the data in the HTML table.\n",
    "\n",
    "Note that this can also be achieved by using the Pandas `read_html` function. However, use Beautiful Soup here to continue sharpening your web scraping skills."
   ]
  },
  {
   "cell_type": "code",
   "execution_count": 137,
   "metadata": {},
   "outputs": [],
   "source": [
    "# Create a Beautiful Soup Object\n",
    "html = browser.html\n",
    "soup = BeautifulSoup(html, 'html.parser')"
   ]
  },
  {
   "cell_type": "code",
   "execution_count": 138,
   "metadata": {},
   "outputs": [],
   "source": [
    "# Extract all rows of data\n",
    "table = soup.find('table', class_='table')"
   ]
  },
  {
   "attachments": {},
   "cell_type": "markdown",
   "metadata": {},
   "source": [
    "### Step 3: Store the Data\n",
    "\n",
    "Assemble the scraped data into a Pandas DataFrame. The columns should have the same headings as the table on the website. Here’s an explanation of the column headings:\n",
    "\n",
    "* `id`: the identification number of a single transmission from the Curiosity rover\n",
    "* `terrestrial_date`: the date on Earth\n",
    "* `sol`: the number of elapsed sols (Martian days) since Curiosity landed on Mars\n",
    "* `ls`: the solar longitude\n",
    "* `month`: the Martian month\n",
    "* `min_temp`: the minimum temperature, in Celsius, of a single Martian day (sol)\n",
    "* `pressure`: The atmospheric pressure at Curiosity's location"
   ]
  },
  {
   "cell_type": "code",
   "execution_count": 139,
   "metadata": {},
   "outputs": [],
   "source": [
    "# Create an empty list\n",
    "mars_temperature_data = []\n",
    "row_header = []\n",
    "\n",
    "\n",
    "# Loop through the scraped data to create a list of rows\n",
    "rows = table.find_all('tr')\n",
    "\n",
    "\n",
    "for header in rows[0].find_all('th'):\n",
    "    row_heading = header.text.strip()\n",
    "\n",
    "    row_header.append(row_heading)\n",
    "\n",
    "\n",
    "for row in rows[1:]:\n",
    "    row_data = []\n",
    "    \n",
    "    for td in row.find_all('td'):\n",
    "        data = td.text.strip()\n",
    "        row_data.append(data)\n",
    "\n",
    "    mars_temperature_data.append(row_data)\n"
   ]
  },
  {
   "cell_type": "code",
   "execution_count": 140,
   "metadata": {},
   "outputs": [],
   "source": [
    "#testing lists\n",
    "#row_header\n",
    "#mars_temperature_data"
   ]
  },
  {
   "cell_type": "code",
   "execution_count": 141,
   "metadata": {},
   "outputs": [],
   "source": [
    "# Create a Pandas DataFrame by using the list of rows and a list of the column names\n",
    "mars_weather_df = pd.DataFrame(mars_temperature_data, columns=row_header)"
   ]
  },
  {
   "cell_type": "code",
   "execution_count": 142,
   "metadata": {},
   "outputs": [
    {
     "data": {
      "text/html": [
       "<div>\n",
       "<style scoped>\n",
       "    .dataframe tbody tr th:only-of-type {\n",
       "        vertical-align: middle;\n",
       "    }\n",
       "\n",
       "    .dataframe tbody tr th {\n",
       "        vertical-align: top;\n",
       "    }\n",
       "\n",
       "    .dataframe thead th {\n",
       "        text-align: right;\n",
       "    }\n",
       "</style>\n",
       "<table border=\"1\" class=\"dataframe\">\n",
       "  <thead>\n",
       "    <tr style=\"text-align: right;\">\n",
       "      <th></th>\n",
       "      <th>id</th>\n",
       "      <th>terrestrial_date</th>\n",
       "      <th>sol</th>\n",
       "      <th>ls</th>\n",
       "      <th>month</th>\n",
       "      <th>min_temp</th>\n",
       "      <th>pressure</th>\n",
       "    </tr>\n",
       "  </thead>\n",
       "  <tbody>\n",
       "    <tr>\n",
       "      <th>0</th>\n",
       "      <td>2</td>\n",
       "      <td>2012-08-16</td>\n",
       "      <td>10</td>\n",
       "      <td>155</td>\n",
       "      <td>6</td>\n",
       "      <td>-75.0</td>\n",
       "      <td>739.0</td>\n",
       "    </tr>\n",
       "    <tr>\n",
       "      <th>1</th>\n",
       "      <td>13</td>\n",
       "      <td>2012-08-17</td>\n",
       "      <td>11</td>\n",
       "      <td>156</td>\n",
       "      <td>6</td>\n",
       "      <td>-76.0</td>\n",
       "      <td>740.0</td>\n",
       "    </tr>\n",
       "    <tr>\n",
       "      <th>2</th>\n",
       "      <td>24</td>\n",
       "      <td>2012-08-18</td>\n",
       "      <td>12</td>\n",
       "      <td>156</td>\n",
       "      <td>6</td>\n",
       "      <td>-76.0</td>\n",
       "      <td>741.0</td>\n",
       "    </tr>\n",
       "    <tr>\n",
       "      <th>3</th>\n",
       "      <td>35</td>\n",
       "      <td>2012-08-19</td>\n",
       "      <td>13</td>\n",
       "      <td>157</td>\n",
       "      <td>6</td>\n",
       "      <td>-74.0</td>\n",
       "      <td>732.0</td>\n",
       "    </tr>\n",
       "    <tr>\n",
       "      <th>4</th>\n",
       "      <td>46</td>\n",
       "      <td>2012-08-20</td>\n",
       "      <td>14</td>\n",
       "      <td>157</td>\n",
       "      <td>6</td>\n",
       "      <td>-74.0</td>\n",
       "      <td>740.0</td>\n",
       "    </tr>\n",
       "  </tbody>\n",
       "</table>\n",
       "</div>"
      ],
      "text/plain": [
       "   id terrestrial_date sol   ls month min_temp pressure\n",
       "0   2       2012-08-16  10  155     6    -75.0    739.0\n",
       "1  13       2012-08-17  11  156     6    -76.0    740.0\n",
       "2  24       2012-08-18  12  156     6    -76.0    741.0\n",
       "3  35       2012-08-19  13  157     6    -74.0    732.0\n",
       "4  46       2012-08-20  14  157     6    -74.0    740.0"
      ]
     },
     "execution_count": 142,
     "metadata": {},
     "output_type": "execute_result"
    }
   ],
   "source": [
    "# Confirm DataFrame was created successfully\n",
    "mars_weather_df.head()"
   ]
  },
  {
   "attachments": {},
   "cell_type": "markdown",
   "metadata": {},
   "source": [
    "### Step 4: Prepare Data for Analysis\n",
    "\n",
    "Examine the data types that are currently associated with each column. If necessary, cast (or convert) the data to the appropriate `datetime`, `int`, or `float` data types.\n",
    "\n",
    "  > **Hint** You can use the Pandas `astype` and `to_datetime` methods to accomplish this task.\n"
   ]
  },
  {
   "cell_type": "code",
   "execution_count": 143,
   "metadata": {},
   "outputs": [
    {
     "data": {
      "text/plain": [
       "id                  object\n",
       "terrestrial_date    object\n",
       "sol                 object\n",
       "ls                  object\n",
       "month               object\n",
       "min_temp            object\n",
       "pressure            object\n",
       "dtype: object"
      ]
     },
     "execution_count": 143,
     "metadata": {},
     "output_type": "execute_result"
    }
   ],
   "source": [
    "# Examine data type of each column\n",
    "mars_weather_df.dtypes"
   ]
  },
  {
   "cell_type": "code",
   "execution_count": 144,
   "metadata": {},
   "outputs": [],
   "source": [
    "# Change data types for data analysis\n",
    "mars_weather_df['terrestrial_date'] = pd.to_datetime(mars_weather_df['terrestrial_date'])\n",
    "mars_weather_df['sol'] = mars_weather_df['sol'].astype(int)\n",
    "mars_weather_df['ls'] = mars_weather_df['ls'].astype(int)\n",
    "mars_weather_df['month'] = mars_weather_df['month'].astype(int)\n",
    "mars_weather_df['min_temp'] = mars_weather_df['min_temp'].astype(float)\n",
    "mars_weather_df['pressure'] = mars_weather_df['pressure'].astype(float)"
   ]
  },
  {
   "cell_type": "code",
   "execution_count": 145,
   "metadata": {},
   "outputs": [
    {
     "data": {
      "text/plain": [
       "id                          object\n",
       "terrestrial_date    datetime64[ns]\n",
       "sol                          int32\n",
       "ls                           int32\n",
       "month                        int32\n",
       "min_temp                   float64\n",
       "pressure                   float64\n",
       "dtype: object"
      ]
     },
     "execution_count": 145,
     "metadata": {},
     "output_type": "execute_result"
    }
   ],
   "source": [
    "# Confirm type changes were successful by examining data types again\n",
    "mars_weather_df.dtypes"
   ]
  },
  {
   "attachments": {},
   "cell_type": "markdown",
   "metadata": {},
   "source": [
    "### Step 5: Analyze the Data\n",
    "\n",
    "Analyze your dataset by using Pandas functions to answer the following questions:\n",
    "\n",
    "1. How many months exist on Mars?\n",
    "2. How many Martian (and not Earth) days worth of data exist in the scraped dataset?\n",
    "3. What are the coldest and the warmest months on Mars (at the location of Curiosity)? To answer this question:\n",
    "    * Find the average the minimum daily temperature for all of the months.\n",
    "    * Plot the results as a bar chart.\n",
    "4. Which months have the lowest and the highest atmospheric pressure on Mars? To answer this question:\n",
    "    * Find the average the daily atmospheric pressure of all the months.\n",
    "    * Plot the results as a bar chart.\n",
    "5. About how many terrestrial (Earth) days exist in a Martian year? To answer this question:\n",
    "    * Consider how many days elapse on Earth in the time that Mars circles the Sun once.\n",
    "    * Visually estimate the result by plotting the daily minimum temperature.\n"
   ]
  },
  {
   "cell_type": "code",
   "execution_count": 146,
   "metadata": {},
   "outputs": [
    {
     "data": {
      "text/html": [
       "<div>\n",
       "<style scoped>\n",
       "    .dataframe tbody tr th:only-of-type {\n",
       "        vertical-align: middle;\n",
       "    }\n",
       "\n",
       "    .dataframe tbody tr th {\n",
       "        vertical-align: top;\n",
       "    }\n",
       "\n",
       "    .dataframe thead th {\n",
       "        text-align: right;\n",
       "    }\n",
       "</style>\n",
       "<table border=\"1\" class=\"dataframe\">\n",
       "  <thead>\n",
       "    <tr style=\"text-align: right;\">\n",
       "      <th></th>\n",
       "      <th>id</th>\n",
       "      <th>terrestrial_date</th>\n",
       "      <th>sol</th>\n",
       "      <th>ls</th>\n",
       "      <th>month</th>\n",
       "      <th>min_temp</th>\n",
       "      <th>pressure</th>\n",
       "    </tr>\n",
       "  </thead>\n",
       "  <tbody>\n",
       "    <tr>\n",
       "      <th>0</th>\n",
       "      <td>2</td>\n",
       "      <td>2012-08-16</td>\n",
       "      <td>10</td>\n",
       "      <td>155</td>\n",
       "      <td>6</td>\n",
       "      <td>-75.0</td>\n",
       "      <td>739.0</td>\n",
       "    </tr>\n",
       "    <tr>\n",
       "      <th>1</th>\n",
       "      <td>13</td>\n",
       "      <td>2012-08-17</td>\n",
       "      <td>11</td>\n",
       "      <td>156</td>\n",
       "      <td>6</td>\n",
       "      <td>-76.0</td>\n",
       "      <td>740.0</td>\n",
       "    </tr>\n",
       "    <tr>\n",
       "      <th>2</th>\n",
       "      <td>24</td>\n",
       "      <td>2012-08-18</td>\n",
       "      <td>12</td>\n",
       "      <td>156</td>\n",
       "      <td>6</td>\n",
       "      <td>-76.0</td>\n",
       "      <td>741.0</td>\n",
       "    </tr>\n",
       "    <tr>\n",
       "      <th>3</th>\n",
       "      <td>35</td>\n",
       "      <td>2012-08-19</td>\n",
       "      <td>13</td>\n",
       "      <td>157</td>\n",
       "      <td>6</td>\n",
       "      <td>-74.0</td>\n",
       "      <td>732.0</td>\n",
       "    </tr>\n",
       "    <tr>\n",
       "      <th>4</th>\n",
       "      <td>46</td>\n",
       "      <td>2012-08-20</td>\n",
       "      <td>14</td>\n",
       "      <td>157</td>\n",
       "      <td>6</td>\n",
       "      <td>-74.0</td>\n",
       "      <td>740.0</td>\n",
       "    </tr>\n",
       "    <tr>\n",
       "      <th>...</th>\n",
       "      <td>...</td>\n",
       "      <td>...</td>\n",
       "      <td>...</td>\n",
       "      <td>...</td>\n",
       "      <td>...</td>\n",
       "      <td>...</td>\n",
       "      <td>...</td>\n",
       "    </tr>\n",
       "    <tr>\n",
       "      <th>1862</th>\n",
       "      <td>1889</td>\n",
       "      <td>2018-02-23</td>\n",
       "      <td>1973</td>\n",
       "      <td>133</td>\n",
       "      <td>5</td>\n",
       "      <td>-78.0</td>\n",
       "      <td>730.0</td>\n",
       "    </tr>\n",
       "    <tr>\n",
       "      <th>1863</th>\n",
       "      <td>1892</td>\n",
       "      <td>2018-02-24</td>\n",
       "      <td>1974</td>\n",
       "      <td>134</td>\n",
       "      <td>5</td>\n",
       "      <td>-77.0</td>\n",
       "      <td>729.0</td>\n",
       "    </tr>\n",
       "    <tr>\n",
       "      <th>1864</th>\n",
       "      <td>1894</td>\n",
       "      <td>2018-02-25</td>\n",
       "      <td>1975</td>\n",
       "      <td>134</td>\n",
       "      <td>5</td>\n",
       "      <td>-76.0</td>\n",
       "      <td>729.0</td>\n",
       "    </tr>\n",
       "    <tr>\n",
       "      <th>1865</th>\n",
       "      <td>1893</td>\n",
       "      <td>2018-02-26</td>\n",
       "      <td>1976</td>\n",
       "      <td>135</td>\n",
       "      <td>5</td>\n",
       "      <td>-77.0</td>\n",
       "      <td>728.0</td>\n",
       "    </tr>\n",
       "    <tr>\n",
       "      <th>1866</th>\n",
       "      <td>1895</td>\n",
       "      <td>2018-02-27</td>\n",
       "      <td>1977</td>\n",
       "      <td>135</td>\n",
       "      <td>5</td>\n",
       "      <td>-77.0</td>\n",
       "      <td>727.0</td>\n",
       "    </tr>\n",
       "  </tbody>\n",
       "</table>\n",
       "<p>1867 rows × 7 columns</p>\n",
       "</div>"
      ],
      "text/plain": [
       "        id terrestrial_date   sol   ls  month  min_temp  pressure\n",
       "0        2       2012-08-16    10  155      6     -75.0     739.0\n",
       "1       13       2012-08-17    11  156      6     -76.0     740.0\n",
       "2       24       2012-08-18    12  156      6     -76.0     741.0\n",
       "3       35       2012-08-19    13  157      6     -74.0     732.0\n",
       "4       46       2012-08-20    14  157      6     -74.0     740.0\n",
       "...    ...              ...   ...  ...    ...       ...       ...\n",
       "1862  1889       2018-02-23  1973  133      5     -78.0     730.0\n",
       "1863  1892       2018-02-24  1974  134      5     -77.0     729.0\n",
       "1864  1894       2018-02-25  1975  134      5     -76.0     729.0\n",
       "1865  1893       2018-02-26  1976  135      5     -77.0     728.0\n",
       "1866  1895       2018-02-27  1977  135      5     -77.0     727.0\n",
       "\n",
       "[1867 rows x 7 columns]"
      ]
     },
     "execution_count": 146,
     "metadata": {},
     "output_type": "execute_result"
    }
   ],
   "source": [
    "mars_weather_df"
   ]
  },
  {
   "cell_type": "code",
   "execution_count": 147,
   "metadata": {},
   "outputs": [
    {
     "data": {
      "text/plain": [
       "12"
      ]
     },
     "execution_count": 147,
     "metadata": {},
     "output_type": "execute_result"
    }
   ],
   "source": [
    "# 1. How many months are there on Mars?\n",
    "unique_mars_month = mars_weather_df['month'].nunique()\n",
    "unique_mars_month"
   ]
  },
  {
   "cell_type": "code",
   "execution_count": 148,
   "metadata": {},
   "outputs": [
    {
     "data": {
      "text/plain": [
       "1867"
      ]
     },
     "execution_count": 148,
     "metadata": {},
     "output_type": "execute_result"
    }
   ],
   "source": [
    "# 2. How many sols (Martian days) worth of data are there?\n",
    "total_sols_data = mars_weather_df['sol'].count()\n",
    "total_sols_data"
   ]
  },
  {
   "cell_type": "code",
   "execution_count": 149,
   "metadata": {},
   "outputs": [
    {
     "data": {
      "text/plain": [
       "month\n",
       "1    -77.160920\n",
       "2    -79.932584\n",
       "3    -83.307292\n",
       "4    -82.747423\n",
       "5    -79.308725\n",
       "6    -75.299320\n",
       "7    -72.281690\n",
       "8    -68.382979\n",
       "9    -69.171642\n",
       "10   -71.982143\n",
       "11   -71.985507\n",
       "12   -74.451807\n",
       "Name: min_temp, dtype: float64"
      ]
     },
     "execution_count": 149,
     "metadata": {},
     "output_type": "execute_result"
    }
   ],
   "source": [
    "# 3. What is the average minimum temperature by month?\n",
    "avg_temp_month = mars_weather_df.groupby('month')['min_temp'].mean()\n",
    "avg_temp_month"
   ]
  },
  {
   "cell_type": "code",
   "execution_count": 150,
   "metadata": {},
   "outputs": [
    {
     "data": {
      "image/png": "[encoded data removed]",
      "text/plain": [
       "<Figure size 640x480 with 1 Axes>"
      ]
     },
     "metadata": {},
     "output_type": "display_data"
    }
   ],
   "source": [
    "# Plot the average minimum temperature by month\n",
    "avg_temp_month.plot(kind='bar')\n",
    "plt.title('Average Minimum Temperature by Month')\n",
    "plt.ylabel('Tempearture in Celsius');"
   ]
  },
  {
   "cell_type": "code",
   "execution_count": 151,
   "metadata": {},
   "outputs": [
    {
     "data": {
      "image/png": "[encoded data removed]",
      "text/plain": [
       "<Figure size 640x480 with 1 Axes>"
      ]
     },
     "metadata": {},
     "output_type": "display_data"
    }
   ],
   "source": [
    "# Identify the coldest and hottest months in Curiosity's location by sorting the previous graph\n",
    "sorted_avg_temp_month = mars_weather_df.groupby('month')['min_temp'].mean().sort_values(ascending=True)\n",
    "sorted_avg_temp_month.plot(kind='bar')\n",
    "plt.title('Average Minimum Temperature by Month')\n",
    "plt.ylabel('Tempearture in Celsius');"
   ]
  },
  {
   "cell_type": "code",
   "execution_count": 152,
   "metadata": {},
   "outputs": [
    {
     "data": {
      "text/plain": [
       "month\n",
       "1     862.488506\n",
       "2     889.455056\n",
       "3     877.322917\n",
       "4     806.329897\n",
       "5     748.557047\n",
       "6     745.054422\n",
       "7     795.105634\n",
       "8     873.829787\n",
       "9     913.305970\n",
       "10    887.312500\n",
       "11    857.014493\n",
       "12    842.156627\n",
       "Name: pressure, dtype: float64"
      ]
     },
     "execution_count": 152,
     "metadata": {},
     "output_type": "execute_result"
    }
   ],
   "source": [
    "# 4. What is the average pressure by month?\n",
    "avg_pressure_month = mars_weather_df.groupby('month')['pressure'].mean()\n",
    "avg_pressure_month"
   ]
  },
  {
   "cell_type": "code",
   "execution_count": 153,
   "metadata": {},
   "outputs": [
    {
     "data": {
      "image/png": "[encoded data removed]",
      "text/plain": [
       "<Figure size 640x480 with 1 Axes>"
      ]
     },
     "metadata": {},
     "output_type": "display_data"
    }
   ],
   "source": [
    "# Plot the average pressure by month\n",
    "avg_pressure_month.plot(kind='bar')\n",
    "plt.title('Average Pressure by Month')\n",
    "plt.ylabel('Atmospheric Pressure');"
   ]
  },
  {
   "cell_type": "code",
   "execution_count": 154,
   "metadata": {},
   "outputs": [
    {
     "data": {
      "image/png": "[encoded data removed]",
      "text/plain": [
       "<Figure size 640x480 with 1 Axes>"
      ]
     },
     "metadata": {},
     "output_type": "display_data"
    }
   ],
   "source": [
    "# Identify the lowest and highest pressure months in Curiosity's location by sorting the previous graph\n",
    "sorted_avg_pressure_month = mars_weather_df.groupby('month')['pressure'].mean().sort_values(ascending=True)\n",
    "sorted_avg_pressure_month.plot(kind='bar')\n",
    "plt.title('Average Pressure by Month')\n",
    "plt.ylabel('Atmospheric Pressure');"
   ]
  },
  {
   "cell_type": "code",
   "execution_count": 155,
   "metadata": {},
   "outputs": [],
   "source": [
    "#earthday_per_marsyear = mars_weather_df[['sol','min_temp']]\n",
    "#earthday_per_marsyear.set_index('sol', inplace=True)\n",
    "#earthday_per_marsyear"
   ]
  },
  {
   "cell_type": "code",
   "execution_count": 156,
   "metadata": {},
   "outputs": [
    {
     "data": {
      "image/png": "[encoded data removed]",
      "text/plain": [
       "<Figure size 640x480 with 1 Axes>"
      ]
     },
     "metadata": {},
     "output_type": "display_data"
    }
   ],
   "source": [
    "# 5. How many terrestrial (Earth) days are there in a Martian year?\n",
    "# Visually estimate the result by plotting the daily minimum temperature of each observation in the data set.\n",
    "earthday_per_marsyear = mars_weather_df[['sol','min_temp']]\n",
    "earthday_per_marsyear.set_index('sol', inplace=True)\n",
    "\n",
    "earthday_per_marsyear.plot(kind='line')\n",
    "plt.title('Minimum Temperature over Time')\n",
    "plt.xlabel('Number of terrestrial days')\n",
    "plt.ylabel('Minimum temperature');"
   ]
  },
  {
   "attachments": {},
   "cell_type": "markdown",
   "metadata": {},
   "source": [
    "#### Minimum Temperature\n",
    "\n",
    "Looking at our plots for minimum temperature by month, we can see that the 3rd month has the lowest minimum while the 8th month has the highest mimimum on average. While all 12 months in Mars appears relatively cold or quite literally freezing, we can still speculate the inverse of later months (7-12) being the warmer months and months 1-6 being the coldest times. "
   ]
  },
  {
   "attachments": {},
   "cell_type": "markdown",
   "metadata": {},
   "source": [
    "#### Atmospheric Pressure\n",
    "\n",
    "The plots generated based off the data shows that month 6 has the lowest pressure while month 9 has the higest pressure on average. We can also see that the pressure is usually within 200 atmospheric pressure between the months. We can infer that there is no correlation between pressure and temperature during the months bases on both plots, but that is unconfirmed without further testing of data."
   ]
  },
  {
   "attachments": {},
   "cell_type": "markdown",
   "metadata": {},
   "source": [
    "#### Year Length\n",
    "\n",
    "We already know that one martian year is 12 months, but not how manys in the year or each month. Since we have data on the the amount of observations made, we can plot that with the minimum temperature to see the temperature over a long period of time to visually estimate the amount of Earth days is in a martian year. It appears that the rough estimate is about 625 days. It was estimated by looking at the min temperature on day 0 and looking at how many days it takes to get to that same temp after reaching a high min temp and low min temp once."
   ]
  },
  {
   "attachments": {},
   "cell_type": "markdown",
   "metadata": {},
   "source": [
    "### Step 6: Save the Data\n",
    "\n",
    "Export the DataFrame to a CSV file."
   ]
  },
  {
   "cell_type": "code",
   "execution_count": 157,
   "metadata": {},
   "outputs": [],
   "source": [
    "# Write the data to a CSV\n",
    "mars_weather_df.to_csv('Collected Data/mars_weather.csv', index=False, header=True)\n"
   ]
  },
  {
   "cell_type": "code",
   "execution_count": 158,
   "metadata": {},
   "outputs": [],
   "source": [
    "browser.quit()"
   ]
  }
 ],
 "metadata": {
  "kernelspec": {
   "display_name": "base",
   "language": "python",
   "name": "python3"
  },
  "language_info": {
   "codemirror_mode": {
    "name": "ipython",
    "version": 3
   },
   "file_extension": ".py",
   "mimetype": "text/x-python",
   "name": "python",
   "nbconvert_exporter": "python",
   "pygments_lexer": "ipython3",
   "version": "3.12.4"
  }
 },
 "nbformat": 4,
 "nbformat_minor": 4
}
